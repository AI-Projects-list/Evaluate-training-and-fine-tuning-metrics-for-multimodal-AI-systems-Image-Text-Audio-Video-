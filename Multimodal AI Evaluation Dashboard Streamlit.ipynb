{
 "cells": [
  {
   "cell_type": "code",
   "execution_count": null,
   "id": "d2489751-a2b7-4c01-8712-d0edb51d6c87",
   "metadata": {},
   "outputs": [],
   "source": [
    "!pip install streamlit"
   ]
  },
  {
   "cell_type": "code",
   "execution_count": null,
   "id": "25019223-70cd-44e0-a70d-700933d0090e",
   "metadata": {},
   "outputs": [],
   "source": [
    "%%writefile app.py\n",
    "\n",
    "import streamlit as st\n",
    "import pandas as pd\n",
    "import numpy as np\n",
    "import os\n",
    "\n",
    "# Load or simulate log data (replace with actual log file reads)\n",
    "def load_logs():\n",
    "    data = {\n",
    "        'epoch': list(range(1, 11)),\n",
    "        'image_accuracy': np.random.uniform(0.6, 0.95, 10),\n",
    "        'image_loss': np.random.uniform(0.2, 1.2, 10),\n",
    "        'text_bleu': np.random.uniform(0.2, 0.9, 10),\n",
    "        'text_perplexity': np.random.uniform(10, 60, 10),\n",
    "        'audio_wer': np.random.uniform(5, 30, 10),\n",
    "        'video_map': np.random.uniform(0.4, 0.9, 10),\n",
    "        'video_fps': np.random.uniform(8, 25, 10),\n",
    "    }\n",
    "    return pd.DataFrame(data)\n",
    "\n",
    "def status_label(metric, value):\n",
    "    if metric == \"image_accuracy\":\n",
    "        return \"OK\" if value > 0.85 else \"NOK\"\n",
    "    elif metric == \"image_loss\":\n",
    "        return \"OK\" if value < 1.0 else \"NOK\"\n",
    "    elif metric == \"text_bleu\":\n",
    "        return \"OK\" if value > 0.7 else \"NOK\"\n",
    "    elif metric == \"text_perplexity\":\n",
    "        return \"OK\" if value < 20 else \"NOK\"\n",
    "    elif metric == \"audio_wer\":\n",
    "        return \"OK\" if value < 10 else \"NOK\"\n",
    "    elif metric == \"video_map\":\n",
    "        return \"OK\" if value > 0.75 else \"NOK\"\n",
    "    elif metric == \"video_fps\":\n",
    "        return \"OK\" if value > 15 else \"NOK\"\n",
    "    return \"Unknown\"\n",
    "\n",
    "# Streamlit UI\n",
    "st.title(\"🧠 Multimodal AI Evaluation Dashboard\")\n",
    "st.write(\"Evaluate and visualize fine-tuning metrics across modalities (Image, Text, Audio, Video)\")\n",
    "\n",
    "df = load_logs()\n",
    "epoch = st.slider(\"Select Epoch\", 1, len(df), 10)\n",
    "data = df[df.epoch == epoch].squeeze()\n",
    "\n",
    "st.subheader(f\"📈 Evaluation at Epoch {epoch}\")\n",
    "\n",
    "cols = st.columns(4)\n",
    "with cols[0]:\n",
    "    st.metric(\"Image Accuracy\", f\"{data.image_accuracy:.2f}\", status_label(\"image_accuracy\", data.image_accuracy))\n",
    "    st.metric(\"Image Loss\", f\"{data.image_loss:.2f}\", status_label(\"image_loss\", data.image_loss))\n",
    "with cols[1]:\n",
    "    st.metric(\"Text BLEU\", f\"{data.text_bleu:.2f}\", status_label(\"text_bleu\", data.text_bleu))\n",
    "    st.metric(\"Text Perplexity\", f\"{data.text_perplexity:.2f}\", status_label(\"text_perplexity\", data.text_perplexity))\n",
    "with cols[2]:\n",
    "    st.metric(\"Audio WER\", f\"{data.audio_wer:.2f}%\", status_label(\"audio_wer\", data.audio_wer))\n",
    "with cols[3]:\n",
    "    st.metric(\"Video mAP\", f\"{data.video_map:.2f}\", status_label(\"video_map\", data.video_map))\n",
    "    st.metric(\"Video FPS\", f\"{data.video_fps:.2f}\", status_label(\"video_fps\", data.video_fps))\n",
    "\n",
    "st.subheader(\"📊 Trends Over Epochs\")\n",
    "st.line_chart(df.set_index(\"epoch\")[[\"image_accuracy\", \"text_bleu\", \"video_map\"]])\n",
    "st.line_chart(df.set_index(\"epoch\")[[\"image_loss\", \"text_perplexity\", \"audio_wer\"]])\n",
    "\n"
   ]
  },
  {
   "cell_type": "code",
   "execution_count": null,
   "id": "a4cff0c5-fcee-42dc-952b-e8537d7ef1b3",
   "metadata": {},
   "outputs": [],
   "source": [
    "!npm install -g localtunnel\n",
    "!streamlit run app.py & npx localtunnel --port 8501\n"
   ]
  }
 ],
 "metadata": {
  "kernelspec": {
   "display_name": "Python 3 (ipykernel)",
   "language": "python",
   "name": "python3"
  },
  "language_info": {
   "codemirror_mode": {
    "name": "ipython",
    "version": 3
   },
   "file_extension": ".py",
   "mimetype": "text/x-python",
   "name": "python",
   "nbconvert_exporter": "python",
   "pygments_lexer": "ipython3",
   "version": "3.12.4"
  }
 },
 "nbformat": 4,
 "nbformat_minor": 5
}
