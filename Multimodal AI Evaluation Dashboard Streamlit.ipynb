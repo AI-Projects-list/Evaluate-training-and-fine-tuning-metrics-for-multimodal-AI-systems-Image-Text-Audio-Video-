{
 "cells": [
  {
   "cell_type": "code",
   "execution_count": null,
   "id": "d2489751-a2b7-4c01-8712-d0edb51d6c87",
   "metadata": {},
   "outputs": [],
   "source": [
    "!pip install streamlit"
   ]
  },
  {
   "cell_type": "code",
   "execution_count": null,
   "id": "25019223-70cd-44e0-a70d-700933d0090e",
   "metadata": {},
   "outputs": [],
   "source": [
    "%%writefile app.py\n",
    "import streamlit as st\n",
    "\n",
    "st.title(\"Hello from Streamlit in Google Colab!\")\n",
    "st.write(\"This is a demo running inside Colab via localtunnel.\")\n"
   ]
  },
  {
   "cell_type": "code",
   "execution_count": null,
   "id": "a4cff0c5-fcee-42dc-952b-e8537d7ef1b3",
   "metadata": {},
   "outputs": [],
   "source": [
    "!npm install -g localtunnel\n",
    "!streamlit run app.py & npx localtunnel --port 8501\n"
   ]
  }
 ],
 "metadata": {
  "kernelspec": {
   "display_name": "Python 3 (ipykernel)",
   "language": "python",
   "name": "python3"
  },
  "language_info": {
   "codemirror_mode": {
    "name": "ipython",
    "version": 3
   },
   "file_extension": ".py",
   "mimetype": "text/x-python",
   "name": "python",
   "nbconvert_exporter": "python",
   "pygments_lexer": "ipython3",
   "version": "3.12.4"
  }
 },
 "nbformat": 4,
 "nbformat_minor": 5
}
